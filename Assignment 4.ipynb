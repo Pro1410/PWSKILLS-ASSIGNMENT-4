{
 "cells": [
  {
   "cell_type": "code",
   "execution_count": 10,
   "id": "3d07ba29",
   "metadata": {},
   "outputs": [],
   "source": [
    "#Print nmber from 1 to 5 using a while loop."
   ]
  },
  {
   "cell_type": "code",
   "execution_count": 11,
   "id": "db796264",
   "metadata": {},
   "outputs": [
    {
     "name": "stdout",
     "output_type": "stream",
     "text": [
      "1\n",
      "2\n",
      "3\n",
      "4\n",
      "5\n"
     ]
    }
   ],
   "source": [
    "n = 1\n",
    "while n<=5:\n",
    "    print(n)\n",
    "    n+=1\n"
   ]
  },
  {
   "cell_type": "code",
   "execution_count": 12,
   "id": "6265ca29",
   "metadata": {},
   "outputs": [],
   "source": [
    "#Calclate the sum of nmbers from 1 to 10 using a while loop."
   ]
  },
  {
   "cell_type": "code",
   "execution_count": 1,
   "id": "57c7521c",
   "metadata": {},
   "outputs": [
    {
     "name": "stdout",
     "output_type": "stream",
     "text": [
      "65\n"
     ]
    }
   ],
   "source": [
    "n = 1\n",
    "sum = 0\n",
    "while n<=10:\n",
    "    n +=1\n",
    "    sum +=n\n",
    "print(sum)"
   ]
  },
  {
   "cell_type": "code",
   "execution_count": 2,
   "id": "cb6eba47",
   "metadata": {},
   "outputs": [],
   "source": [
    "#Calclate the factorial of a number using a for loop."
   ]
  },
  {
   "cell_type": "code",
   "execution_count": 3,
   "id": "0d262974",
   "metadata": {},
   "outputs": [
    {
     "name": "stdout",
     "output_type": "stream",
     "text": [
      "Number for factorial: 6\n",
      "720\n"
     ]
    }
   ],
   "source": [
    "n =int(input(\"Number for factorial: \"))\n",
    "fact = 1\n",
    "for i in range(1,n+1):\n",
    "    fact = fact*i\n",
    "print(fact)\n",
    "    "
   ]
  },
  {
   "cell_type": "code",
   "execution_count": 4,
   "id": "a1864327",
   "metadata": {},
   "outputs": [],
   "source": [
    "#Count the number of vowels in a string using a for loop."
   ]
  },
  {
   "cell_type": "code",
   "execution_count": 5,
   "id": "e463934e",
   "metadata": {},
   "outputs": [
    {
     "name": "stdout",
     "output_type": "stream",
     "text": [
      "Please write a word: pranayu\n",
      "3\n"
     ]
    }
   ],
   "source": [
    "str1 = input(\"Please write a word: \")\n",
    "count = 0\n",
    "vowel = [\"a\",\"e\",\"i\",\"o\",\"u\"]\n",
    "for i in range(len(str1)):\n",
    "    if str1[i] in vowel:\n",
    "        count+=1\n",
    "print(count)\n",
    "    "
   ]
  },
  {
   "cell_type": "code",
   "execution_count": 6,
   "id": "332e3904",
   "metadata": {},
   "outputs": [],
   "source": [
    "#Print a pattern using nested loop."
   ]
  },
  {
   "cell_type": "code",
   "execution_count": 7,
   "id": "b8fb995b",
   "metadata": {},
   "outputs": [
    {
     "name": "stdout",
     "output_type": "stream",
     "text": [
      "* * * * * \n",
      "* * * * * \n",
      "* * * * * \n",
      "* * * * * \n",
      "* * * * * \n"
     ]
    }
   ],
   "source": [
    "n = 5\n",
    "for i in range(n):\n",
    "    for x in range(n):\n",
    "        print(\"*\", end=' ')\n",
    "    print()"
   ]
  },
  {
   "cell_type": "code",
   "execution_count": 8,
   "id": "0f88e255",
   "metadata": {},
   "outputs": [],
   "source": [
    "#Generate a multiplication table using nested loop."
   ]
  },
  {
   "cell_type": "code",
   "execution_count": 9,
   "id": "e49fd669",
   "metadata": {},
   "outputs": [
    {
     "name": "stdout",
     "output_type": "stream",
     "text": [
      "The Multiplication of  5\n",
      "5 x 1 =  5\n",
      "5 x 2 =  10\n",
      "5 x 3 =  15\n",
      "5 x 4 =  20\n",
      "5 x 5 =  25\n",
      "5 x 6 =  30\n",
      "5 x 7 =  35\n",
      "5 x 8 =  40\n",
      "5 x 9 =  45\n",
      "5 x 10 =  50\n"
     ]
    }
   ],
   "source": [
    "N = 5\n",
    "print(\"The Multiplication of \",N)\n",
    "for i in range(1,11):\n",
    "        print(N,\"x\",i,\"= \",N*i)"
   ]
  },
  {
   "cell_type": "code",
   "execution_count": null,
   "id": "a741e639",
   "metadata": {},
   "outputs": [],
   "source": []
  }
 ],
 "metadata": {
  "kernelspec": {
   "display_name": "Python 3 (ipykernel)",
   "language": "python",
   "name": "python3"
  },
  "language_info": {
   "codemirror_mode": {
    "name": "ipython",
    "version": 3
   },
   "file_extension": ".py",
   "mimetype": "text/x-python",
   "name": "python",
   "nbconvert_exporter": "python",
   "pygments_lexer": "ipython3",
   "version": "3.11.5"
  }
 },
 "nbformat": 4,
 "nbformat_minor": 5
}
